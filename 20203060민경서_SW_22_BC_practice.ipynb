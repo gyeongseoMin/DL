{
  "cells": [
    {
      "cell_type": "markdown",
      "metadata": {
        "id": "view-in-github",
        "colab_type": "text"
      },
      "source": [
        "<a href=\"https://colab.research.google.com/github/gyeongseoMin/DL/blob/main/20203060%EB%AF%BC%EA%B2%BD%EC%84%9C_SW_22_BC_practice.ipynb\" target=\"_parent\"><img src=\"https://colab.research.google.com/assets/colab-badge.svg\" alt=\"Open In Colab\"/></a>"
      ]
    },
    {
      "cell_type": "markdown",
      "metadata": {
        "id": "0-Z69tRAi97l"
      },
      "source": [
        "# 1. 데이터셋 다운로드"
      ]
    },
    {
      "cell_type": "code",
      "execution_count": null,
      "metadata": {
        "colab": {
          "base_uri": "https://localhost:8080/"
        },
        "id": "41pAu0rJq4HR",
        "outputId": "7d84b70c-205e-4ed8-ab7f-a787823b6a6f"
      },
      "outputs": [
        {
          "output_type": "stream",
          "name": "stdout",
          "text": [
            "--2022-12-13 12:23:42--  https://www.dropbox.com/s/pj6zfdf5f5l6rhe/imitation_22ver.zip?dl=0\n",
            "Resolving www.dropbox.com (www.dropbox.com)... 162.125.80.18, 2620:100:6020:18::a27d:4012\n",
            "Connecting to www.dropbox.com (www.dropbox.com)|162.125.80.18|:443... connected.\n",
            "HTTP request sent, awaiting response... 302 Found\n",
            "Location: /s/raw/pj6zfdf5f5l6rhe/imitation_22ver.zip [following]\n",
            "--2022-12-13 12:23:43--  https://www.dropbox.com/s/raw/pj6zfdf5f5l6rhe/imitation_22ver.zip\n",
            "Reusing existing connection to www.dropbox.com:443.\n",
            "HTTP request sent, awaiting response... 302 Found\n",
            "Location: https://ucfcec8c587bc03aeb0f5b9a216f.dl.dropboxusercontent.com/cd/0/inline/ByjXkgnmoM9Q_6CZ1s9T_TntGyhyzMsislrSV8jVSUmUCfQow4bdkTsVI37tk1do66DCglWiZYwU3Or79WoDqmOFHdhdwxB5d23C7CHFP5YqjfMrFE5YSFo3ihSpk5geC7fCSsWzfJS4579BsxQ868JBsgLjq-znv-QKK6PcbHjWkg/file# [following]\n",
            "--2022-12-13 12:23:43--  https://ucfcec8c587bc03aeb0f5b9a216f.dl.dropboxusercontent.com/cd/0/inline/ByjXkgnmoM9Q_6CZ1s9T_TntGyhyzMsislrSV8jVSUmUCfQow4bdkTsVI37tk1do66DCglWiZYwU3Or79WoDqmOFHdhdwxB5d23C7CHFP5YqjfMrFE5YSFo3ihSpk5geC7fCSsWzfJS4579BsxQ868JBsgLjq-znv-QKK6PcbHjWkg/file\n",
            "Resolving ucfcec8c587bc03aeb0f5b9a216f.dl.dropboxusercontent.com (ucfcec8c587bc03aeb0f5b9a216f.dl.dropboxusercontent.com)... 162.125.81.15, 2620:100:6031:15::a27d:510f\n",
            "Connecting to ucfcec8c587bc03aeb0f5b9a216f.dl.dropboxusercontent.com (ucfcec8c587bc03aeb0f5b9a216f.dl.dropboxusercontent.com)|162.125.81.15|:443... connected.\n",
            "HTTP request sent, awaiting response... 302 Found\n",
            "Location: /cd/0/inline2/ByjbTonlL1oJp0wvcFZ6MfiLWqwfWa_9vLBFxkzZvObh0brKfvxFQTSWa8rBqSYFP_Mn8I40SuoCeGDQsudpKTtwASo0Jlpj8x-0PxCfxhM71UTVNYc8zUcfqcc5mr9JP0IS3QeEHoM7-pIZL2nkpoidDwW5Y_d4Aatlx13Xim5EU2u_fsAUDX41cfzJbEqp52uRJjxc8aVm38m8ykh7-vSRugYcsorvmHLu9QKwufUQ0upTwf8P5i8UTqozuxnAm4pGvPu1xhQ4qeNKPWE7FOwShmd92W5xOYLc67a8JXP5IEm3IPOkEuNnpPfDkRMVzlCl_91Q7e5t4ZkJ7kqIS87SCvbbaOpU6JWUDLluWgWQl3EGJhcNBEZtXJa5s3xeWWL3ZqtXHKz85pWHrm8q0MAGh4kb9Gyb2hlenz7Nnn2FfA/file [following]\n",
            "--2022-12-13 12:23:44--  https://ucfcec8c587bc03aeb0f5b9a216f.dl.dropboxusercontent.com/cd/0/inline2/ByjbTonlL1oJp0wvcFZ6MfiLWqwfWa_9vLBFxkzZvObh0brKfvxFQTSWa8rBqSYFP_Mn8I40SuoCeGDQsudpKTtwASo0Jlpj8x-0PxCfxhM71UTVNYc8zUcfqcc5mr9JP0IS3QeEHoM7-pIZL2nkpoidDwW5Y_d4Aatlx13Xim5EU2u_fsAUDX41cfzJbEqp52uRJjxc8aVm38m8ykh7-vSRugYcsorvmHLu9QKwufUQ0upTwf8P5i8UTqozuxnAm4pGvPu1xhQ4qeNKPWE7FOwShmd92W5xOYLc67a8JXP5IEm3IPOkEuNnpPfDkRMVzlCl_91Q7e5t4ZkJ7kqIS87SCvbbaOpU6JWUDLluWgWQl3EGJhcNBEZtXJa5s3xeWWL3ZqtXHKz85pWHrm8q0MAGh4kb9Gyb2hlenz7Nnn2FfA/file\n",
            "Reusing existing connection to ucfcec8c587bc03aeb0f5b9a216f.dl.dropboxusercontent.com:443.\n",
            "HTTP request sent, awaiting response... 200 OK\n",
            "Length: 356916762 (340M) [application/zip]\n",
            "Saving to: ‘dataset.zip’\n",
            "\n",
            "dataset.zip         100%[===================>] 340.38M  16.9MB/s    in 20s     \n",
            "\n",
            "2022-12-13 12:24:04 (17.0 MB/s) - ‘dataset.zip’ saved [356916762/356916762]\n",
            "\n"
          ]
        }
      ],
      "source": [
        "# download dataset by url link\n",
        "!wget -O dataset.zip https://www.dropbox.com/s/pj6zfdf5f5l6rhe/imitation_22ver.zip?dl=0\n",
        "# unzip zip file\n",
        "!unzip -qq dataset.zip\n",
        "# delete downloaded zip file\n",
        "!rm -rf dataset.zip\n",
        "# rename data path\n",
        "!mv imitation_22ver/ dataset/"
      ]
    },
    {
      "cell_type": "markdown",
      "metadata": {
        "id": "1WSwZyuzjFsD"
      },
      "source": [
        "# 2. EDA (Exploratory Data Analysis)"
      ]
    },
    {
      "cell_type": "code",
      "execution_count": null,
      "metadata": {
        "colab": {
          "base_uri": "https://localhost:8080/"
        },
        "id": "wUrJ2gTMjOzo",
        "outputId": "0771c67b-3526-438f-a101-7ccd69766a3f"
      },
      "outputs": [
        {
          "output_type": "stream",
          "name": "stdout",
          "text": [
            "['.DS_Store', 'label.csv', 'images']\n"
          ]
        }
      ],
      "source": [
        "# 데이터 기본 디렉토리 지정\n",
        "import os\n",
        "data_dir = os.path.join(os.getcwd(), 'dataset') ## os.getcwd() : 현재 위치(코랩 현재 파일 위치), -> 현재 위치/dataset 경로로 지정\n",
        "print(os.listdir(data_dir))"
      ]
    },
    {
      "cell_type": "code",
      "execution_count": null,
      "metadata": {
        "colab": {
          "base_uri": "https://localhost:8080/",
          "height": 424
        },
        "id": "-oWVPWKDjkkg",
        "outputId": "8cc60d38-85d4-4e0e-dc61-a4d76c7e0bdc"
      },
      "outputs": [
        {
          "output_type": "execute_result",
          "data": {
            "text/plain": [
              "             img     steer\n",
              "0     329571.jpg  0.019361\n",
              "1     329580.jpg  0.090791\n",
              "2     329590.jpg  0.090791\n",
              "3     329603.jpg -0.007297\n",
              "4     329610.jpg -0.056953\n",
              "...          ...       ...\n",
              "1647  411920.jpg  0.001657\n",
              "1648  411930.jpg  0.024448\n",
              "1649  411940.jpg  0.027501\n",
              "1650  411950.jpg  0.036455\n",
              "1651  411960.jpg  0.020175\n",
              "\n",
              "[1652 rows x 2 columns]"
            ],
            "text/html": [
              "\n",
              "  <div id=\"df-3cf73d97-77ee-455e-a8f6-b12e26a661fa\">\n",
              "    <div class=\"colab-df-container\">\n",
              "      <div>\n",
              "<style scoped>\n",
              "    .dataframe tbody tr th:only-of-type {\n",
              "        vertical-align: middle;\n",
              "    }\n",
              "\n",
              "    .dataframe tbody tr th {\n",
              "        vertical-align: top;\n",
              "    }\n",
              "\n",
              "    .dataframe thead th {\n",
              "        text-align: right;\n",
              "    }\n",
              "</style>\n",
              "<table border=\"1\" class=\"dataframe\">\n",
              "  <thead>\n",
              "    <tr style=\"text-align: right;\">\n",
              "      <th></th>\n",
              "      <th>img</th>\n",
              "      <th>steer</th>\n",
              "    </tr>\n",
              "  </thead>\n",
              "  <tbody>\n",
              "    <tr>\n",
              "      <th>0</th>\n",
              "      <td>329571.jpg</td>\n",
              "      <td>0.019361</td>\n",
              "    </tr>\n",
              "    <tr>\n",
              "      <th>1</th>\n",
              "      <td>329580.jpg</td>\n",
              "      <td>0.090791</td>\n",
              "    </tr>\n",
              "    <tr>\n",
              "      <th>2</th>\n",
              "      <td>329590.jpg</td>\n",
              "      <td>0.090791</td>\n",
              "    </tr>\n",
              "    <tr>\n",
              "      <th>3</th>\n",
              "      <td>329603.jpg</td>\n",
              "      <td>-0.007297</td>\n",
              "    </tr>\n",
              "    <tr>\n",
              "      <th>4</th>\n",
              "      <td>329610.jpg</td>\n",
              "      <td>-0.056953</td>\n",
              "    </tr>\n",
              "    <tr>\n",
              "      <th>...</th>\n",
              "      <td>...</td>\n",
              "      <td>...</td>\n",
              "    </tr>\n",
              "    <tr>\n",
              "      <th>1647</th>\n",
              "      <td>411920.jpg</td>\n",
              "      <td>0.001657</td>\n",
              "    </tr>\n",
              "    <tr>\n",
              "      <th>1648</th>\n",
              "      <td>411930.jpg</td>\n",
              "      <td>0.024448</td>\n",
              "    </tr>\n",
              "    <tr>\n",
              "      <th>1649</th>\n",
              "      <td>411940.jpg</td>\n",
              "      <td>0.027501</td>\n",
              "    </tr>\n",
              "    <tr>\n",
              "      <th>1650</th>\n",
              "      <td>411950.jpg</td>\n",
              "      <td>0.036455</td>\n",
              "    </tr>\n",
              "    <tr>\n",
              "      <th>1651</th>\n",
              "      <td>411960.jpg</td>\n",
              "      <td>0.020175</td>\n",
              "    </tr>\n",
              "  </tbody>\n",
              "</table>\n",
              "<p>1652 rows × 2 columns</p>\n",
              "</div>\n",
              "      <button class=\"colab-df-convert\" onclick=\"convertToInteractive('df-3cf73d97-77ee-455e-a8f6-b12e26a661fa')\"\n",
              "              title=\"Convert this dataframe to an interactive table.\"\n",
              "              style=\"display:none;\">\n",
              "        \n",
              "  <svg xmlns=\"http://www.w3.org/2000/svg\" height=\"24px\"viewBox=\"0 0 24 24\"\n",
              "       width=\"24px\">\n",
              "    <path d=\"M0 0h24v24H0V0z\" fill=\"none\"/>\n",
              "    <path d=\"M18.56 5.44l.94 2.06.94-2.06 2.06-.94-2.06-.94-.94-2.06-.94 2.06-2.06.94zm-11 1L8.5 8.5l.94-2.06 2.06-.94-2.06-.94L8.5 2.5l-.94 2.06-2.06.94zm10 10l.94 2.06.94-2.06 2.06-.94-2.06-.94-.94-2.06-.94 2.06-2.06.94z\"/><path d=\"M17.41 7.96l-1.37-1.37c-.4-.4-.92-.59-1.43-.59-.52 0-1.04.2-1.43.59L10.3 9.45l-7.72 7.72c-.78.78-.78 2.05 0 2.83L4 21.41c.39.39.9.59 1.41.59.51 0 1.02-.2 1.41-.59l7.78-7.78 2.81-2.81c.8-.78.8-2.07 0-2.86zM5.41 20L4 18.59l7.72-7.72 1.47 1.35L5.41 20z\"/>\n",
              "  </svg>\n",
              "      </button>\n",
              "      \n",
              "  <style>\n",
              "    .colab-df-container {\n",
              "      display:flex;\n",
              "      flex-wrap:wrap;\n",
              "      gap: 12px;\n",
              "    }\n",
              "\n",
              "    .colab-df-convert {\n",
              "      background-color: #E8F0FE;\n",
              "      border: none;\n",
              "      border-radius: 50%;\n",
              "      cursor: pointer;\n",
              "      display: none;\n",
              "      fill: #1967D2;\n",
              "      height: 32px;\n",
              "      padding: 0 0 0 0;\n",
              "      width: 32px;\n",
              "    }\n",
              "\n",
              "    .colab-df-convert:hover {\n",
              "      background-color: #E2EBFA;\n",
              "      box-shadow: 0px 1px 2px rgba(60, 64, 67, 0.3), 0px 1px 3px 1px rgba(60, 64, 67, 0.15);\n",
              "      fill: #174EA6;\n",
              "    }\n",
              "\n",
              "    [theme=dark] .colab-df-convert {\n",
              "      background-color: #3B4455;\n",
              "      fill: #D2E3FC;\n",
              "    }\n",
              "\n",
              "    [theme=dark] .colab-df-convert:hover {\n",
              "      background-color: #434B5C;\n",
              "      box-shadow: 0px 1px 3px 1px rgba(0, 0, 0, 0.15);\n",
              "      filter: drop-shadow(0px 1px 2px rgba(0, 0, 0, 0.3));\n",
              "      fill: #FFFFFF;\n",
              "    }\n",
              "  </style>\n",
              "\n",
              "      <script>\n",
              "        const buttonEl =\n",
              "          document.querySelector('#df-3cf73d97-77ee-455e-a8f6-b12e26a661fa button.colab-df-convert');\n",
              "        buttonEl.style.display =\n",
              "          google.colab.kernel.accessAllowed ? 'block' : 'none';\n",
              "\n",
              "        async function convertToInteractive(key) {\n",
              "          const element = document.querySelector('#df-3cf73d97-77ee-455e-a8f6-b12e26a661fa');\n",
              "          const dataTable =\n",
              "            await google.colab.kernel.invokeFunction('convertToInteractive',\n",
              "                                                     [key], {});\n",
              "          if (!dataTable) return;\n",
              "\n",
              "          const docLinkHtml = 'Like what you see? Visit the ' +\n",
              "            '<a target=\"_blank\" href=https://colab.research.google.com/notebooks/data_table.ipynb>data table notebook</a>'\n",
              "            + ' to learn more about interactive tables.';\n",
              "          element.innerHTML = '';\n",
              "          dataTable['output_type'] = 'display_data';\n",
              "          await google.colab.output.renderOutput(dataTable, element);\n",
              "          const docLink = document.createElement('div');\n",
              "          docLink.innerHTML = docLinkHtml;\n",
              "          element.appendChild(docLink);\n",
              "        }\n",
              "      </script>\n",
              "    </div>\n",
              "  </div>\n",
              "  "
            ]
          },
          "metadata": {},
          "execution_count": 3
        }
      ],
      "source": [
        "# label.csv 파일 탐색\n",
        "label_path = os.path.join(data_dir, 'label.csv')\n",
        "\n",
        "import pandas as pd\n",
        "label_df = pd.read_csv(label_path)\n",
        "label_df"
      ]
    },
    {
      "cell_type": "code",
      "execution_count": null,
      "metadata": {
        "colab": {
          "base_uri": "https://localhost:8080/",
          "height": 440
        },
        "id": "E22wSTHMj9rq",
        "outputId": "eccc9ebb-76ff-4966-be88-0bd8293aff3c"
      },
      "outputs": [
        {
          "output_type": "stream",
          "name": "stdout",
          "text": [
            "count    1652.000000\n",
            "mean       -0.048909\n",
            "std         0.130272\n",
            "min        -0.500000\n",
            "25%        -0.111353\n",
            "50%        -0.013198\n",
            "75%         0.021193\n",
            "max         0.500000\n",
            "Name: steer, dtype: float64\n"
          ]
        },
        {
          "output_type": "execute_result",
          "data": {
            "text/plain": [
              "<matplotlib.axes._subplots.AxesSubplot at 0x7fb68f888490>"
            ]
          },
          "metadata": {},
          "execution_count": 4
        },
        {
          "output_type": "display_data",
          "data": {
            "text/plain": [
              "<Figure size 432x288 with 1 Axes>"
            ],
            "image/png": "[encoded data removed]"
          },
          "metadata": {
            "needs_background": "light"
          }
        }
      ],
      "source": [
        "# steer 값 탐색\n",
        "print(label_df['steer'].describe())\n",
        "\n",
        "label_df['steer'].hist()\n",
        "## 0 -> 직진\n",
        "## 왼쪽 데이터가 많음. \n",
        "## 불균형 해결하는 방법 생각해보기"
      ]
    },
    {
      "cell_type": "code",
      "source": [
        "import numpy as np\n",
        "import csv\n",
        "import pandas as pd\n",
        "import matplotlib.pyplot as plt\n",
        "from PIL import Image\n",
        "\n",
        "\n",
        "def load_image(img_name):\n",
        "    # https://m.blog.naver.com/nostresss12/221950215408\n",
        "    path = os.path.join(data_dir, 'images', img_name)\n",
        "    img_data = Image.open(path).convert(\"RGB\")\n",
        "\n",
        "    return img_data\n",
        "\n",
        "\n",
        "new_jpg = 10000\n",
        "def visualize_augm(img_name, label, new_jpg):\n",
        "\n",
        "    img = load_image(img_name)\n",
        "    im1 = img.transpose(Image.FLIP_LEFT_RIGHT)\n",
        "    label *= -1.0\n",
        "    new_jpg = str(new_jpg)+'.jpg'\n",
        "    path = os.path.join(data_dir,'images',new_jpg)\n",
        "    im1.save(path, 'JPEG')\n",
        "\n",
        "    with open(label_path, 'a', newline='') as myfile:\n",
        "        wr = csv.writer(myfile)\n",
        "        wr.writerow([new_jpg,label])\n",
        "   \n",
        "for i in label_df.index:\n",
        "  img_name = label_df['img'][i]\n",
        "  label = label_df[label_df['img'] == img_name]['steer'].values[0]\n",
        "  if label <= -0.09:\n",
        "    visualize_augm(img_name, label,new_jpg)\n",
        "    new_jpg+=1\n",
        "\n",
        "label_df = pd.read_csv(label_path)\n",
        "label_df\n",
        "\n",
        "\n",
        "print(label_df['steer'].describe())\n",
        "label_df['steer'].hist()"
      ],
      "metadata": {
        "colab": {
          "base_uri": "https://localhost:8080/",
          "height": 439
        },
        "id": "fiTjvF9ss4GY",
        "outputId": "4e09d068-6c88-43b0-9434-2e67aa028ddf"
      },
      "execution_count": null,
      "outputs": [
        {
          "output_type": "stream",
          "name": "stdout",
          "text": [
            "count    2165.000000\n",
            "mean        0.008520\n",
            "std         0.159629\n",
            "min        -0.500000\n",
            "25%        -0.085449\n",
            "50%         0.010000\n",
            "75%         0.098680\n",
            "max         0.500000\n",
            "Name: steer, dtype: float64\n"
          ]
        },
        {
          "output_type": "execute_result",
          "data": {
            "text/plain": [
              "<matplotlib.axes._subplots.AxesSubplot at 0x7fb68f2a4fd0>"
            ]
          },
          "metadata": {},
          "execution_count": 5
        },
        {
          "output_type": "display_data",
          "data": {
            "text/plain": [
              "<Figure size 432x288 with 1 Axes>"
            ],
            "image/png": "[encoded data removed]"
          },
          "metadata": {
            "needs_background": "light"
          }
        }
      ]
    },
    {
      "cell_type": "code",
      "execution_count": null,
      "metadata": {
        "colab": {
          "base_uri": "https://localhost:8080/",
          "height": 300
        },
        "id": "sAVP2szLkfw1",
        "outputId": "a2a7864b-a216-4404-cf24-550279cfd4ef"
      },
      "outputs": [
        {
          "output_type": "stream",
          "name": "stdout",
          "text": [
            "Index:  260\n",
            "Image name:  332174.jpg\n",
            "Steer:  -0.3012369662023992\n",
            "Image shape:  (256, 512, 3)\n"
          ]
        },
        {
          "output_type": "display_data",
          "data": {
            "text/plain": [
              "<Figure size 432x288 with 1 Axes>"
            ],
            "image/png": "[encoded data removed]"
          },
          "metadata": {
            "needs_background": "light"
          }
        }
      ],
      "source": [
        "# X,Y 데이터 시각화 확인\n",
        "\n",
        "import matplotlib.pyplot as plt\n",
        "from PIL import Image\n",
        "import numpy as np\n",
        "\n",
        "def load_image(img_name):\n",
        "    # https://m.blog.naver.com/nostresss12/221950215408\n",
        "\n",
        "    # img_name_path = '/content/dataset/images/'\n",
        "    path = os.path.join(data_dir, 'images', img_name)\n",
        "    img_data = Image.open(path).convert(\"RGB\")\n",
        "    return img_data\n",
        "\n",
        "def visualize_data(img_name, label):\n",
        "\n",
        "    img = load_image(img_name)\n",
        "    print(\"Image shape: \", np.array(img).shape)\n",
        "    \n",
        "    plt.imshow(img)\n",
        "    plt.title(\"steering: {:.2f}\".format(label))\n",
        "    plt.show()\n",
        "\n",
        "\n",
        "i = np.random.choice(label_df.index)\n",
        "img_name = label_df['img'][i]\n",
        "# print(img_name)\n",
        "label = label_df[label_df['img'] == img_name]['steer'].values[0]\n",
        "print(\"Index: \", i)\n",
        "print(\"Image name: \", img_name)\n",
        "print(\"Steer: \", label)\n",
        "\n",
        "visualize_data(img_name, label)"
      ]
    },
    {
      "cell_type": "markdown",
      "metadata": {
        "id": "YQXR0Qo8O34M"
      },
      "source": [
        "# 3. 딥러닝 모델 생성"
      ]
    },
    {
      "cell_type": "code",
      "execution_count": null,
      "metadata": {
        "id": "dMLPWd9pOgSk",
        "colab": {
          "base_uri": "https://localhost:8080/"
        },
        "outputId": "cde12ec5-87d9-4564-e550-f94fb9c7ea21"
      },
      "outputs": [
        {
          "output_type": "stream",
          "name": "stdout",
          "text": [
            "Model: \"sequential\"\n",
            "_________________________________________________________________\n",
            " Layer (type)                Output Shape              Param #   \n",
            "=================================================================\n",
            " conv2d (Conv2D)             (None, 252, 508, 24)      1824      \n",
            "                                                                 \n",
            " max_pooling2d (MaxPooling2D  (None, 126, 254, 24)     0         \n",
            " )                                                               \n",
            "                                                                 \n",
            " conv2d_1 (Conv2D)           (None, 122, 250, 36)      21636     \n",
            "                                                                 \n",
            " max_pooling2d_1 (MaxPooling  (None, 61, 125, 36)      0         \n",
            " 2D)                                                             \n",
            "                                                                 \n",
            " conv2d_2 (Conv2D)           (None, 57, 121, 48)       43248     \n",
            "                                                                 \n",
            " max_pooling2d_2 (MaxPooling  (None, 28, 60, 48)       0         \n",
            " 2D)                                                             \n",
            "                                                                 \n",
            " conv2d_3 (Conv2D)           (None, 24, 56, 64)        76864     \n",
            "                                                                 \n",
            " max_pooling2d_3 (MaxPooling  (None, 12, 28, 64)       0         \n",
            " 2D)                                                             \n",
            "                                                                 \n",
            " conv2d_4 (Conv2D)           (None, 8, 24, 64)         102464    \n",
            "                                                                 \n",
            " max_pooling2d_4 (MaxPooling  (None, 4, 12, 64)        0         \n",
            " 2D)                                                             \n",
            "                                                                 \n",
            " flatten (Flatten)           (None, 3072)              0         \n",
            "                                                                 \n",
            " dense (Dense)               (None, 100)               307300    \n",
            "                                                                 \n",
            " dense_1 (Dense)             (None, 50)                5050      \n",
            "                                                                 \n",
            " dense_2 (Dense)             (None, 10)                510       \n",
            "                                                                 \n",
            " dense_3 (Dense)             (None, 1)                 11        \n",
            "                                                                 \n",
            "=================================================================\n",
            "Total params: 558,907\n",
            "Trainable params: 558,907\n",
            "Non-trainable params: 0\n",
            "_________________________________________________________________\n"
          ]
        }
      ],
      "source": [
        "from tensorflow.keras.models import Sequential\n",
        "from tensorflow.keras.layers import Conv2D, MaxPooling2D, Flatten, Dense\n",
        "\n",
        "def get_model():\n",
        "\n",
        "    ## sequentail() 입력에서 조향각을 출력할 때 순차적으로 진행되기 때문에 사용 add만 사용해서 , 구조가 간단, \n",
        "    model = Sequential()\n",
        "    # ▼▼▼▼ Nvidia의 End-to-End 모델 구현 ▼▼▼▼\n",
        "    # input data shape: (None, 256, 512, 3)\n",
        "    # output data shape: (None, 1)\n",
        "    \n",
        "    #raise NotImplementedError\n",
        "\n",
        "    model.add(Conv2D(24, 5, padding='valid', activation='relu', input_shape=(256,512,3)))\n",
        "    model.add(MaxPooling2D(pool_size=(2,2), strides=(2,2)))\n",
        "    model.add(Conv2D(36, 5, padding='valid', activation='relu', input_shape=(256,512,3)))\n",
        "    model.add(MaxPooling2D(pool_size=(2,2), strides=(2,2)))\n",
        "    model.add(Conv2D(48, 5, padding='valid', activation='relu', input_shape=(256,512,3)))\n",
        "    model.add(MaxPooling2D(pool_size=(2,2), strides=(2,2)))   \n",
        "    model.add(Conv2D(64, 5, padding='valid', activation='relu', input_shape=(256,512,3)))\n",
        "    model.add(MaxPooling2D(pool_size=(2,2), strides=(2,2)))\n",
        "    model.add(Conv2D(64, 5, padding='valid', activation='relu', input_shape=(256,512,3)))\n",
        "    model.add(MaxPooling2D(pool_size=(2,2), strides=(2,2)))\n",
        "    \n",
        "    model.add(Flatten())\n",
        "    model.add(Dense(100, activation='relu'))\n",
        "    model.add(Dense(50, activation='relu'))\n",
        "    model.add(Dense(10, activation='relu'))\n",
        "    model.add(Dense(1)) # linear 라는 의미 sigmoid를 넣는 거랑 안 넣는거 차이 \n",
        "#   # strides, padding, parameter, maxpooling 사이즈 시험 \n",
        "\n",
        "    # ▲▲▲▲ Nvidia의 End-to-End 모델 구현 ▲▲▲▲\n",
        "\n",
        "    return model\n",
        "\n",
        "model = get_model()\n",
        "model.summary()\n",
        "\n"
      ]
    },
    {
      "cell_type": "markdown",
      "metadata": {
        "id": "CXOXk25Wywda"
      },
      "source": [
        "# 4. 학습 및 검증 데이터 분할"
      ]
    },
    {
      "cell_type": "code",
      "execution_count": null,
      "metadata": {
        "id": "xjROLZ6hQnzg",
        "colab": {
          "base_uri": "https://localhost:8080/"
        },
        "outputId": "b079050f-2099-410c-cc2a-a52b056211c3"
      },
      "outputs": [
        {
          "output_type": "stream",
          "name": "stdout",
          "text": [
            "2165 1732 433\n",
            "            img     steer\n",
            "0    337376.jpg -0.057564\n",
            "1    333090.jpg -0.083820\n",
            "2    334013.jpg -0.187265\n",
            "3     10003.jpg  0.169339\n",
            "4    410473.jpg  0.030757\n",
            "..          ...       ...\n",
            "428  331340.jpg  0.027704\n",
            "429   10016.jpg  0.109266\n",
            "430  333450.jpg -0.085042\n",
            "431  349371.jpg  0.022414\n",
            "432  332620.jpg  0.016512\n",
            "\n",
            "[433 rows x 2 columns]\n",
            "             img     steer\n",
            "0     329571.jpg  0.019361\n",
            "1     329580.jpg  0.090791\n",
            "2     329590.jpg  0.090791\n",
            "3     329603.jpg -0.007297\n",
            "4     329628.jpg -0.100309\n",
            "...          ...       ...\n",
            "1727   10507.jpg  0.111302\n",
            "1728   10509.jpg  0.125961\n",
            "1729   10510.jpg  0.136753\n",
            "1730   10511.jpg  0.142251\n",
            "1731   10512.jpg  0.129219\n",
            "\n",
            "[1732 rows x 2 columns]\n",
            "2165 1732 433\n"
          ]
        }
      ],
      "source": [
        "# Set the number of training and validation data\n",
        "VAL_RATIO = 0.2\n",
        "\n",
        "len_val = int(np.ceil(len(label_df) * VAL_RATIO))\n",
        "len_train = int(len(label_df) - len_val)\n",
        "\n",
        "print(len(label_df), len_train, len_val)\n",
        "\n",
        "def split_train_val(df, val_ratio):\n",
        "    '''입력받은 데이터프레임를 ratio 기준으로 \n",
        "    학습용 데이터프레임과 검증용 데이터프레임으로 분할\n",
        "    입력 df: 데이터프레임\n",
        "    입력 val_ratio: 검증데이터 비율\n",
        "    출력 train_df: 학습용 데이터프레임\n",
        "    출력 val_df: 검증용 데이터프레임'''\n",
        "    \n",
        "    ############ advance -> 전이학습 사용. 파인튜닝해봐도 ㄱㅊ, 성능개선여부 모름 ㅋ \n",
        "        \n",
        "    # ▼▼▼▼ split_train_val 함수 구현을 위한 코드 작성 ▼▼▼▼\n",
        "    # df_train, df_val = df.split(val_ratio, shuffle = True)\n",
        "    len_val = int(np.ceil(len(label_df) * val_ratio))\n",
        "    len_train = int(len(label_df) - len_val)\n",
        "\n",
        "    # df_train_indices = np.random.choice(df.index, len_train, replace=False)\n",
        "    val_indices = np.random.choice(df.index, len_val, replace=False)\n",
        "    df_val = df.iloc[val_indices].reset_index(drop=True)\n",
        "    # df_train = df.iloc[df_train_indices].reset_index(drop=True)\n",
        "    # 큰 수부터 제거 인덱스가 없어지는 것을 방지하기 위해\n",
        "    # print(sorted(df_val_indices, reverse=True))\n",
        "    df_train = df.drop(sorted(val_indices, reverse=True), axis = 0).reset_index(drop=True)\n",
        "    print(df_val)\n",
        "    print(df_train)\n",
        "   \n",
        "\n",
        "    # index 행 번호 맞추기 \n",
        "\n",
        "    # raise NotImplementedError\n",
        "\n",
        "    # ▲▲▲▲ split_train_val 함수 구현을 위한 코드 작성 ▲▲▲▲\n",
        "\n",
        "    return df_train, df_val\n",
        "\n",
        "label_train, label_val = split_train_val(label_df, VAL_RATIO)\n",
        "print(len(label_df), len(label_train), len(label_val))"
      ]
    },
    {
      "cell_type": "code",
      "execution_count": null,
      "metadata": {
        "id": "l-tj7HukUenW"
      },
      "outputs": [],
      "source": [
        "# Duplication Check\n",
        "for i in range(len(label_train)):\n",
        "    for j in range(len(label_val)):\n",
        "        if label_train.loc[i, 'img'] == label_val.loc[j, 'img']:\n",
        "            print(\"{}th of train-set and {}th of validation-set are the same data.\".format(i, j))\n",
        "            print(\"Deduplication is needed\")\n",
        "            break"
      ]
    },
    {
      "cell_type": "markdown",
      "metadata": {
        "id": "-2YtIc86VRWW"
      },
      "source": [
        "# 5. 데이터로더 생성"
      ]
    },
    {
      "cell_type": "code",
      "execution_count": null,
      "metadata": {
        "id": "LbBkVuzjVXBo"
      },
      "outputs": [],
      "source": [
        "from tensorflow.keras.utils import Sequence\n",
        "import math\n",
        "\n",
        "# https://minimin2.tistory.com/100\n",
        "class DataLoader(Sequence):\n",
        "    def __init__(self, label_df, batch_size, shuffle=False):\n",
        "        self.label_df = label_df\n",
        "        self.batch_size = batch_size\n",
        "        self.shuffle = shuffle\n",
        "        self.on_epoch_end()\n",
        "        self.x_min = -0.5\n",
        "        self.x_max = 0.5\n",
        "        \n",
        "    def on_epoch_end(self):\n",
        "        self.indices = np.arange(len(self.label_df))\n",
        "        if self.shuffle == True:\n",
        "            np.random.shuffle(self.indices)\n",
        "    \n",
        "    def __len__(self):\n",
        "        return math.ceil(len(self.label_df) / self.batch_size)\n",
        "    \n",
        "    def __getitem__(self, idx):\n",
        "    \n",
        "        indices = self.indices[idx*self.batch_size:(idx+1)*self.batch_size]\n",
        "        \n",
        "        batch_x = [self.label_df.iloc[i, 0] for i in indices]\n",
        "        batch_y = [self.label_df.iloc[i, 1] for i in indices] ## 조향각이 들어옴\n",
        "\n",
        "        # ▼▼▼▼ batch_x 변수에 이미지 데이터 로드 ▼▼▼▼\n",
        "        # np.array(batch_x).shape = (batch_size, 256, 512, 3)\n",
        "        batch_x = [np.array(load_image(img_name)) /255. for img_name_x in batch_x]\n",
        "\n",
        "        # ▲▲▲▲ batch_x 변수에 이미지 데이터 로드 ▲▲▲▲\n",
        "\n",
        "\n",
        "        # ▼▼▼▼ batch_y Min-Max Normalization ▼▼▼▼\n",
        "        batch_y = [self.min_max_normalize(y) for y in batch_y]\n",
        "## batch_x = [np.array(load_image(img_name)) /255. for img_nam_x in bathc]\n",
        "## batch_y = [np.array(self.min_max_normalize(y) for y in batch_y)]\n",
        "        # ▲▲▲▲ batch_y Min-Max Normalization ▲▲▲▲\n",
        "        \n",
        "        return np.array(batch_x), np.array(batch_y)\n",
        "\n",
        "    def min_max_normalize(self, x):\n",
        "\n",
        "        # raise NotImplementedError\n",
        "        x_scaled = (x - self.x_min) / (self.x_max - self.x_min)\n",
        "\n",
        "        return x_scaled"
      ]
    },
    {
      "cell_type": "code",
      "execution_count": null,
      "metadata": {
        "id": "NuuscgahVW_G",
        "colab": {
          "base_uri": "https://localhost:8080/"
        },
        "outputId": "f5ce2061-f61b-44d5-a8ba-d44ae0f99d94"
      },
      "outputs": [
        {
          "output_type": "stream",
          "name": "stdout",
          "text": [
            "(5, 256, 512, 3)\n",
            "(5,)\n",
            "[0.51936109 0.59079081 0.59079081 0.4927032  0.44304679]\n"
          ]
        }
      ],
      "source": [
        "total_data_loader = DataLoader(label_df = label_df, batch_size = 5, shuffle = False)\n",
        "x, y = total_data_loader[0]\n",
        "print(x.shape)\n",
        "print(y.shape)\n",
        "# print(x)\n",
        "print(y)"
      ]
    },
    {
      "cell_type": "code",
      "execution_count": null,
      "metadata": {
        "id": "gU6bDiKjw3Ga"
      },
      "outputs": [],
      "source": [
        "# 학습 및 검증 데이터로더 생성\n",
        "batch_size = 16\n",
        "train_data_loader = DataLoader(label_df = label_train, \n",
        "                               batch_size = batch_size, \n",
        "                               shuffle = True)\n",
        "\n",
        "val_data_loader = DataLoader(label_df = label_val, \n",
        "                             batch_size = batch_size, \n",
        "                             shuffle = True)"
      ]
    },
    {
      "cell_type": "markdown",
      "metadata": {
        "id": "6GLNJmJEY_WD"
      },
      "source": [
        "# 6. 학습 설정"
      ]
    },
    {
      "cell_type": "code",
      "execution_count": null,
      "metadata": {
        "id": "TakVX55IVW8f"
      },
      "outputs": [],
      "source": [
        "LOSS = 'mse'\n",
        "OPTIMIZER = 'adam'\n",
        "METRIC = 'mae'\n",
        "# rmse, loss, metric 퀴즈. \n",
        "model.compile(loss = LOSS,\n",
        "              optimizer = OPTIMIZER,\n",
        "              metrics = [METRIC])"
      ]
    },
    {
      "cell_type": "markdown",
      "metadata": {
        "id": "ZLcJ1URzxX1P"
      },
      "source": [
        "# 7. 모델 학습"
      ]
    },
    {
      "cell_type": "code",
      "execution_count": null,
      "metadata": {
        "id": "VBudwrvbwWUJ",
        "colab": {
          "base_uri": "https://localhost:8080/"
        },
        "outputId": "13cdbbde-29e5-4c68-b221-1da5006e82bc"
      },
      "outputs": [
        {
          "output_type": "stream",
          "name": "stdout",
          "text": [
            "Epoch 1/10\n",
            "109/109 [==============================] - 24s 213ms/step - loss: 0.0255 - mae: 0.1163 - val_loss: 0.0258 - val_mae: 0.1169\n",
            "Epoch 2/10\n",
            "109/109 [==============================] - 23s 209ms/step - loss: 0.0254 - mae: 0.1161 - val_loss: 0.0259 - val_mae: 0.1169\n",
            "Epoch 3/10\n",
            "109/109 [==============================] - 23s 208ms/step - loss: 0.0254 - mae: 0.1160 - val_loss: 0.0258 - val_mae: 0.1169\n",
            "Epoch 4/10\n",
            "109/109 [==============================] - 23s 210ms/step - loss: 0.0254 - mae: 0.1161 - val_loss: 0.0258 - val_mae: 0.1169\n",
            "Epoch 5/10\n",
            "109/109 [==============================] - 23s 209ms/step - loss: 0.0254 - mae: 0.1161 - val_loss: 0.0258 - val_mae: 0.1169\n",
            "Epoch 6/10\n",
            "109/109 [==============================] - 23s 209ms/step - loss: 0.0254 - mae: 0.1161 - val_loss: 0.0258 - val_mae: 0.1169\n",
            "Epoch 7/10\n",
            "109/109 [==============================] - 23s 210ms/step - loss: 0.0254 - mae: 0.1162 - val_loss: 0.0258 - val_mae: 0.1169\n",
            "Epoch 8/10\n",
            "109/109 [==============================] - 23s 209ms/step - loss: 0.0254 - mae: 0.1161 - val_loss: 0.0258 - val_mae: 0.1169\n",
            "Epoch 9/10\n",
            "109/109 [==============================] - 23s 208ms/step - loss: 0.0254 - mae: 0.1161 - val_loss: 0.0258 - val_mae: 0.1169\n",
            "Epoch 10/10\n",
            "109/109 [==============================] - 23s 215ms/step - loss: 0.0254 - mae: 0.1162 - val_loss: 0.0258 - val_mae: 0.1169\n"
          ]
        }
      ],
      "source": [
        "from tensorflow.keras import callbacks\n",
        "epochs = 10\n",
        "\n",
        "# 학습 종료 시점에 대한 고찰\n",
        "# https://www.tensorflow.org/api_docs/python/tf/keras/callbacks/EarlyStopping\n",
        "### 과제에 사용. , check point 사용. \n",
        "\n",
        "# earlyStopping = callbacks.EarlyStopping(monitor = 'val_loss', patience = 10)\n",
        "history = model.fit(x = train_data_loader,\n",
        "                    validation_data = val_data_loader,\n",
        "                    epochs = epochs)\n",
        "# callbacks=[earlyStopping]"
      ]
    },
    {
      "cell_type": "markdown",
      "metadata": {
        "id": "HLrVnnPxyox4"
      },
      "source": [
        "# 8. 학습이 완료된 모델 저장"
      ]
    },
    {
      "cell_type": "code",
      "execution_count": null,
      "metadata": {
        "id": "oeh6him4Z7Mw",
        "colab": {
          "base_uri": "https://localhost:8080/"
        },
        "outputId": "d883a56e-6425-4d9d-f740-f50e62a73fdc"
      },
      "outputs": [
        {
          "output_type": "stream",
          "name": "stderr",
          "text": [
            "WARNING:absl:Found untraced functions such as _jit_compiled_convolution_op, _jit_compiled_convolution_op, _jit_compiled_convolution_op, _jit_compiled_convolution_op, _jit_compiled_convolution_op while saving (showing 5 of 5). These functions will not be directly callable after loading.\n"
          ]
        },
        {
          "output_type": "stream",
          "name": "stdout",
          "text": [
            "  adding: My_model/assets/ (stored 0%)\n",
            "  adding: My_model/keras_metadata.pb (deflated 94%)\n",
            "  adding: My_model/saved_model.pb (deflated 89%)\n",
            "  adding: My_model/variables/ (stored 0%)\n",
            "  adding: My_model/variables/variables.data-00000-of-00001 (deflated 42%)\n",
            "  adding: My_model/variables/variables.index (deflated 70%)\n"
          ]
        }
      ],
      "source": [
        "model.save('Mymodel')\n",
        "!zip -r Mymodel.zip Mymodel/*"
      ]
    },
    {
      "cell_type": "markdown",
      "metadata": {
        "id": "BVWfXQokytVU"
      },
      "source": [
        "# 9. 제출 전 저장된 모델이 정상적으로 로드되는지 확인!"
      ]
    },
    {
      "cell_type": "code",
      "execution_count": null,
      "metadata": {
        "id": "l3lnOPu6aX70",
        "colab": {
          "base_uri": "https://localhost:8080/"
        },
        "outputId": "0a44e0c6-2309-4bde-e211-3317d5268399"
      },
      "outputs": [
        {
          "output_type": "stream",
          "name": "stdout",
          "text": [
            "Archive:  My_model.zip\n",
            "   creating: Check/My_model/assets/\n",
            "  inflating: Check/My_model/keras_metadata.pb  \n",
            "  inflating: Check/My_model/saved_model.pb  \n",
            "   creating: Check/My_model/variables/\n",
            "  inflating: Check/My_model/variables/variables.data-00000-of-00001  \n",
            "  inflating: Check/My_model/variables/variables.index  \n",
            "Model: \"sequential\"\n",
            "_________________________________________________________________\n",
            " Layer (type)                Output Shape              Param #   \n",
            "=================================================================\n",
            " conv2d (Conv2D)             (None, 252, 508, 24)      1824      \n",
            "                                                                 \n",
            " max_pooling2d (MaxPooling2D  (None, 126, 254, 24)     0         \n",
            " )                                                               \n",
            "                                                                 \n",
            " conv2d_1 (Conv2D)           (None, 122, 250, 36)      21636     \n",
            "                                                                 \n",
            " max_pooling2d_1 (MaxPooling  (None, 61, 125, 36)      0         \n",
            " 2D)                                                             \n",
            "                                                                 \n",
            " conv2d_2 (Conv2D)           (None, 57, 121, 48)       43248     \n",
            "                                                                 \n",
            " max_pooling2d_2 (MaxPooling  (None, 28, 60, 48)       0         \n",
            " 2D)                                                             \n",
            "                                                                 \n",
            " conv2d_3 (Conv2D)           (None, 24, 56, 64)        76864     \n",
            "                                                                 \n",
            " max_pooling2d_3 (MaxPooling  (None, 12, 28, 64)       0         \n",
            " 2D)                                                             \n",
            "                                                                 \n",
            " conv2d_4 (Conv2D)           (None, 8, 24, 64)         102464    \n",
            "                                                                 \n",
            " max_pooling2d_4 (MaxPooling  (None, 4, 12, 64)        0         \n",
            " 2D)                                                             \n",
            "                                                                 \n",
            " flatten (Flatten)           (None, 3072)              0         \n",
            "                                                                 \n",
            " dense (Dense)               (None, 100)               307300    \n",
            "                                                                 \n",
            " dense_1 (Dense)             (None, 50)                5050      \n",
            "                                                                 \n",
            " dense_2 (Dense)             (None, 10)                510       \n",
            "                                                                 \n",
            " dense_3 (Dense)             (None, 1)                 11        \n",
            "                                                                 \n",
            "=================================================================\n",
            "Total params: 558,907\n",
            "Trainable params: 558,907\n",
            "Non-trainable params: 0\n",
            "_________________________________________________________________\n",
            "None\n",
            "21/21 [==============================] - 3s 142ms/step - loss: 0.0162 - mae: 0.0933\n"
          ]
        },
        {
          "output_type": "execute_result",
          "data": {
            "text/plain": [
              "[0.016220204532146454, 0.09329680353403091]"
            ]
          },
          "metadata": {},
          "execution_count": 20
        }
      ],
      "source": [
        "from tensorflow.keras.models import load_model\n",
        "\n",
        "!unzip Mymodel.zip -d check_folder/\n",
        "\n",
        "loaded_model = load_model('check_folder/Mymodel')\n",
        "print(loaded_model.summary())\n",
        "\n",
        "loaded_model.evaluate(x = val_data_loader)"
      ]
    },
    {
      "cell_type": "markdown",
      "metadata": {
        "id": "2M3NWpjS0Hza"
      },
      "source": [
        "# 10. 정상적으로 저장되었다면 `my_model.zip` 파일을 `학번_이름_과제2.zip`으로 변경해서 제출하시오."
      ]
    }
  ],
  "metadata": {
    "accelerator": "GPU",
    "colab": {
      "provenance": [],
      "include_colab_link": true
    },
    "gpuClass": "standard",
    "kernelspec": {
      "display_name": "Python 3",
      "name": "python3"
    },
    "language_info": {
      "name": "python"
    }
  },
  "nbformat": 4,
  "nbformat_minor": 0
}